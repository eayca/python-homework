{
 "cells": [
  {
   "cell_type": "code",
   "execution_count": 1,
   "metadata": {},
   "outputs": [],
   "source": [
    "from pathlib import Path\n",
    "import csv"
   ]
  },
  {
   "cell_type": "code",
   "execution_count": 2,
   "metadata": {},
   "outputs": [],
   "source": [
    "csvpath_menu = Path ('menu_data.csv')"
   ]
  },
  {
   "cell_type": "code",
   "execution_count": 3,
   "metadata": {},
   "outputs": [
    {
     "name": "stdout",
     "output_type": "stream",
     "text": [
      "['item', 'category', 'description', 'price', 'cost']\n",
      "['edamame', 'appetizers', 'boiled soybeans, maldon sea salt', '4', '1']\n"
     ]
    }
   ],
   "source": [
    "menu = []\n",
    "\n",
    "with open (csvpath_menu, 'r') as csvfile:\n",
    "    csvreader_menu = csv.reader(csvfile, delimiter = ',')\n",
    "    header = next(csvreader_menu)\n",
    "    print(header)\n",
    "    for line in csvreader_menu:\n",
    "        menu.append(line)\n",
    "\n",
    "print(menu[0])    "
   ]
  },
  {
   "cell_type": "code",
   "execution_count": 4,
   "metadata": {},
   "outputs": [],
   "source": [
    "csvpath_sales = Path ('sales_data.csv')"
   ]
  },
  {
   "cell_type": "code",
   "execution_count": 5,
   "metadata": {},
   "outputs": [
    {
     "name": "stdout",
     "output_type": "stream",
     "text": [
      "['Line_Item_ID', 'Date', 'Credit_Card_Number', 'Quantity', 'Menu_Item']\n",
      "['1', '01-01-2017', '7437926611570799', '1', 'spicy miso ramen']\n"
     ]
    }
   ],
   "source": [
    "sales = []\n",
    "\n",
    "with open (csvpath_sales, 'r') as csvfile:\n",
    "    csvreader_sales = csv.reader(csvfile, delimiter = ',')\n",
    "    header = next(csvreader_sales)\n",
    "    print(header)\n",
    "    for line in csvreader_sales:\n",
    "        sales.append(line)\n",
    "\n",
    "print(sales[0])    "
   ]
  },
  {
   "cell_type": "code",
   "execution_count": 6,
   "metadata": {},
   "outputs": [
    {
     "name": "stdout",
     "output_type": "stream",
     "text": [
      "dict_keys(['01-count', '02-revenues', '03-cogs', '04-profit'])\n",
      "dict_values([0, 0, 0, 0])\n"
     ]
    }
   ],
   "source": [
    "report1 = {}\n",
    "\n",
    "report1[\"01-count\"] = 0\n",
    "report1[\"02-revenues\"] = 0\n",
    "report1[\"03-cogs\"] = 0\n",
    "report1[\"04-profit\"] = 0\n",
    "\n",
    "print(report1.keys())\n",
    "print(report1.values())"
   ]
  },
  {
   "cell_type": "code",
   "execution_count": 35,
   "metadata": {},
   "outputs": [
    {
     "name": "stdout",
     "output_type": "stream",
     "text": [
      "spicy miso ramen\n"
     ]
    }
   ],
   "source": [
    "sales_item = []\n",
    "sales1 =[]\n",
    "def \n",
    "for line in sales:\n",
    "    menu_item = line[4]\n",
    "    sales_item.append(menu_item)\n",
    "\n",
    "for line in sales:    \n",
    "    quantity = int(line[3])\n",
    "\n",
    "\n",
    "\n",
    "print(sales_item[0])\n"
   ]
  },
  {
   "cell_type": "code",
   "execution_count": 36,
   "metadata": {},
   "outputs": [
    {
     "name": "stdout",
     "output_type": "stream",
     "text": [
      "no!\n"
     ]
    }
   ],
   "source": [
    "if \"sales_item\" in report1.keys():\n",
    "    print(\"yes\")\n",
    "else:\n",
    "    print(\"no!\")"
   ]
  },
  {
   "cell_type": "code",
   "execution_count": 37,
   "metadata": {},
   "outputs": [
    {
     "name": "stdout",
     "output_type": "stream",
     "text": [
      "{'01-count': 0, '02-revenues': 0, '03-cogs': 0, '04-profit': 0}\n"
     ]
    }
   ],
   "source": [
    "report ={}\n",
    "\n",
    "for x in range(len(sales_item)):\n",
    "    report[sales_item[x]] = {}\n",
    "    report[sales_item[x]][\"01-count\"] = 0\n",
    "    report[sales_item[x]][\"02-revenues\"] = 0\n",
    "    report[sales_item[x]][\"03-cogs\"] = 0\n",
    "    report[sales_item[x]][\"04-profit\"] = 0\n",
    "print(report[\"spicy miso ramen\"])\n"
   ]
  },
  {
   "cell_type": "code",
   "execution_count": 39,
   "metadata": {},
   "outputs": [],
   "source": [
    "for line in menu:\n",
    "    item = (line[0])\n",
    "    price = float(line[3])\n",
    "    cost = int(line[4])\n",
    "    profit = price - cost"
   ]
  },
  {
   "cell_type": "code",
   "execution_count": 46,
   "metadata": {},
   "outputs": [
    {
     "ename": "KeyError",
     "evalue": "0",
     "output_type": "error",
     "traceback": [
      "\u001b[1;31m---------------------------------------------------------------------------\u001b[0m",
      "\u001b[1;31mKeyError\u001b[0m                                  Traceback (most recent call last)",
      "\u001b[1;32m<ipython-input-46-efacc0e72362>\u001b[0m in \u001b[0;36m<module>\u001b[1;34m\u001b[0m\n\u001b[0;32m      1\u001b[0m \u001b[1;32mfor\u001b[0m \u001b[0mx\u001b[0m \u001b[1;32min\u001b[0m \u001b[0mrange\u001b[0m\u001b[1;33m(\u001b[0m\u001b[0mlen\u001b[0m\u001b[1;33m(\u001b[0m\u001b[0mreport\u001b[0m\u001b[1;33m)\u001b[0m\u001b[1;33m)\u001b[0m\u001b[1;33m:\u001b[0m\u001b[1;33m\u001b[0m\u001b[1;33m\u001b[0m\u001b[0m\n\u001b[1;32m----> 2\u001b[1;33m     \u001b[1;32mif\u001b[0m \u001b[0mreport\u001b[0m\u001b[1;33m[\u001b[0m\u001b[0mx\u001b[0m\u001b[1;33m]\u001b[0m\u001b[1;33m[\u001b[0m\u001b[0msales_item\u001b[0m\u001b[1;33m]\u001b[0m \u001b[1;33m==\u001b[0m \u001b[0mitem\u001b[0m\u001b[1;33m[\u001b[0m\u001b[0mx\u001b[0m\u001b[1;33m]\u001b[0m\u001b[1;33m:\u001b[0m\u001b[1;33m\u001b[0m\u001b[1;33m\u001b[0m\u001b[0m\n\u001b[0m\u001b[0;32m      3\u001b[0m         \u001b[0mreport\u001b[0m\u001b[1;33m[\u001b[0m\u001b[0mx\u001b[0m\u001b[1;33m]\u001b[0m\u001b[1;33m[\u001b[0m\u001b[0msales_item\u001b[0m\u001b[1;33m]\u001b[0m\u001b[1;33m[\u001b[0m\u001b[1;34m\"01-count\"\u001b[0m\u001b[1;33m]\u001b[0m \u001b[1;33m+=\u001b[0m \u001b[0mquantity\u001b[0m\u001b[1;33m\u001b[0m\u001b[1;33m\u001b[0m\u001b[0m\n\u001b[0;32m      4\u001b[0m         \u001b[0mreport\u001b[0m\u001b[1;33m[\u001b[0m\u001b[0msales_item\u001b[0m\u001b[1;33m]\u001b[0m\u001b[1;33m[\u001b[0m\u001b[1;34m\"02-revenue\"\u001b[0m\u001b[1;33m]\u001b[0m \u001b[1;33m+=\u001b[0m \u001b[0mprice\u001b[0m \u001b[1;33m*\u001b[0m \u001b[0mquantity\u001b[0m\u001b[1;33m\u001b[0m\u001b[1;33m\u001b[0m\u001b[0m\n\u001b[0;32m      5\u001b[0m         \u001b[0mreport\u001b[0m\u001b[1;33m[\u001b[0m\u001b[0msales_item\u001b[0m\u001b[1;33m]\u001b[0m\u001b[1;33m[\u001b[0m\u001b[1;34m\"03-cogs\"\u001b[0m\u001b[1;33m]\u001b[0m \u001b[1;33m+=\u001b[0m \u001b[0mcost\u001b[0m \u001b[1;33m*\u001b[0m \u001b[0mquantity\u001b[0m\u001b[1;33m\u001b[0m\u001b[1;33m\u001b[0m\u001b[0m\n",
      "\u001b[1;31mKeyError\u001b[0m: 0"
     ]
    }
   ],
   "source": [
    "for x in range(len(report)):\n",
    "    if report[sales_item] == item:\n",
    "        report[sales_item][\"01-count\"] += quantity\n",
    "        report[sales_item][\"02-revenue\"] += price * quantity  \n",
    "        report[sales_item][\"03-cogs\"] += cost * quantity\n",
    "        report[sales_item][\"04-profit\"] += profit * quantity\n",
    "            \n",
    "    else:\n",
    "        print(f\"{sales_item} does not equal {item}! NO MATCH!\")\n",
    "    "
   ]
  },
  {
   "cell_type": "code",
   "execution_count": null,
   "metadata": {},
   "outputs": [],
   "source": [
    "with open (filepath_output, 'a+') as csvfile:\n",
    "    csvwriter = csv.writer(csvfile, delimiter = ',')\n",
    "    csvwriter.writerow(header)\n",
    "    for i in data:\n",
    "        csvwriter.writerow(i)"
   ]
  }
 ],
 "metadata": {
  "kernelspec": {
   "display_name": "Python 3",
   "language": "python",
   "name": "python3"
  },
  "language_info": {
   "codemirror_mode": {
    "name": "ipython",
    "version": 3
   },
   "file_extension": ".py",
   "mimetype": "text/x-python",
   "name": "python",
   "nbconvert_exporter": "python",
   "pygments_lexer": "ipython3",
   "version": "3.8.5"
  }
 },
 "nbformat": 4,
 "nbformat_minor": 4
}
