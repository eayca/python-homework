{
 "cells": [
  {
   "cell_type": "code",
   "execution_count": 28,
   "metadata": {},
   "outputs": [],
   "source": [
    "from pathlib import Path\n",
    "import csv"
   ]
  },
  {
   "cell_type": "code",
   "execution_count": 29,
   "metadata": {},
   "outputs": [],
   "source": [
    "csvpath = Path (\"budget_data.csv\")"
   ]
  },
  {
   "cell_type": "code",
   "execution_count": 30,
   "metadata": {},
   "outputs": [
    {
     "name": "stdout",
     "output_type": "stream",
     "text": [
      "86\n"
     ]
    }
   ],
   "source": [
    "total_months = 0\n",
    "\n",
    "with open (csvpath, 'r') as csvfile:\n",
    "    csvreader = csv.reader(csvfile, delimiter = ',')\n",
    "    header = next(csvreader)\n",
    "    \n",
    "    for line in csvreader:\n",
    "        total_months += 1\n",
    "        \n",
    "print(total_months)"
   ]
  },
  {
   "cell_type": "code",
   "execution_count": 31,
   "metadata": {},
   "outputs": [
    {
     "name": "stdout",
     "output_type": "stream",
     "text": [
      "38382578\n"
     ]
    }
   ],
   "source": [
    "total_pnl = []\n",
    "\n",
    "with open (csvpath, 'r') as csvfile:\n",
    "    csvreader = csv.reader(csvfile, delimiter = ',')\n",
    "    header = next(csvreader)\n",
    "    \n",
    "    for line in csvreader:\n",
    "        pnl = int(line[1])\n",
    "        total_pnl.append(pnl)\n",
    "\n",
    "total_s = sum(total_pnl)\n",
    "print(total_s)"
   ]
  },
  {
   "cell_type": "code",
   "execution_count": 32,
   "metadata": {},
   "outputs": [
    {
     "name": "stdout",
     "output_type": "stream",
     "text": [
      "-196785\n",
      "85\n",
      "$ -2315.12\n"
     ]
    }
   ],
   "source": [
    "\n",
    "change = []\n",
    "average = 0\n",
    "## average bir onceki ay ile degisim hesaplamasi ve onun ortalamasi\n",
    "    \n",
    "for x,y in zip(total_pnl,total_pnl[1:]):\n",
    "    diff = (y - x)\n",
    "    change.append(diff)\n",
    "\n",
    "average = 0\n",
    "count = 0\n",
    "total = 0\n",
    "\n",
    "for line in change:\n",
    "    total += line\n",
    "    count += 1\n",
    "\n",
    "print(total)\n",
    "print(count)\n",
    "\n",
    "average = round(total / count,2)\n",
    "\n",
    "print(f\"$ {average}\")\n",
    "\n",
    "\n",
    "change.insert(0,0)"
   ]
  },
  {
   "cell_type": "code",
   "execution_count": 33,
   "metadata": {},
   "outputs": [
    {
     "name": "stdout",
     "output_type": "stream",
     "text": [
      "{'Jan-2010': 0, 'Feb-2010': 116771, 'Mar-2010': -662642, 'Apr-2010': -391430, 'May-2010': 379920, 'Jun-2010': 212354, 'Jul-2010': 510239, 'Aug-2010': -428211, 'Sep-2010': -821271, 'Oct-2010': 693918, 'Nov-2010': 416278, 'Dec-2010': -974163, 'Jan-2011': 860159, 'Feb-2011': -1115009, 'Mar-2011': 1033048, 'Apr-2011': 95318, 'May-2011': -308093, 'Jun-2011': 99052, 'Jul-2011': -521393, 'Aug-2011': 605450, 'Sep-2011': 231727, 'Oct-2011': -65187, 'Nov-2011': -702716, 'Dec-2011': 177975, 'Jan-2012': -1065544, 'Feb-2012': 1926159, 'Mar-2012': -917805, 'Apr-2012': 898730, 'May-2012': -334262, 'Jun-2012': -246499, 'Jul-2012': -64055, 'Aug-2012': -1529236, 'Sep-2012': 1497596, 'Oct-2012': 304914, 'Nov-2012': -635801, 'Dec-2012': 398319, 'Jan-2013': -183161, 'Feb-2013': -37864, 'Mar-2013': -253689, 'Apr-2013': 403655, 'May-2013': 94168, 'Jun-2013': 306877, 'Jul-2013': -83000, 'Aug-2013': 210462, 'Sep-2013': -2196167, 'Oct-2013': 1465222, 'Nov-2013': -956983, 'Dec-2013': 1838447, 'Jan-2014': -468003, 'Feb-2014': -64602, 'Mar-2014': 206242, 'Apr-2014': -242155, 'May-2014': -449079, 'Jun-2014': 315198, 'Jul-2014': 241099, 'Aug-2014': 111540, 'Sep-2014': 365942, 'Oct-2014': -219310, 'Nov-2014': -368665, 'Dec-2014': 409837, 'Jan-2015': 151210, 'Feb-2015': -110244, 'Mar-2015': -341938, 'Apr-2015': -1212159, 'May-2015': 683246, 'Jun-2015': -70825, 'Jul-2015': 335594, 'Aug-2015': 417334, 'Sep-2015': -272194, 'Oct-2015': -236462, 'Nov-2015': 657432, 'Dec-2015': -211262, 'Jan-2016': -128237, 'Feb-2016': -1750387, 'Mar-2016': 925441, 'Apr-2016': 932089, 'May-2016': -311434, 'Jun-2016': 267252, 'Jul-2016': -1876758, 'Aug-2016': 1733696, 'Sep-2016': 198551, 'Oct-2016': -665765, 'Nov-2016': 693229, 'Dec-2016': -734926, 'Jan-2017': 77242, 'Feb-2017': 532869}\n"
     ]
    }
   ],
   "source": [
    "date = []\n",
    "with open (csvpath, 'r') as csvfile:\n",
    "    csvreader = csv.reader(csvfile, delimiter = ',')\n",
    "    header = next(csvreader)\n",
    "    \n",
    "    for line in csvreader:\n",
    "        d = line[0]\n",
    "        date.append(d)\n",
    "\n",
    "data = {}\n",
    "\n",
    "for i in range (len(date)):\n",
    "    if date[i] not in data:\n",
    "        data[date[i]] = int(change[i])\n",
    "\n",
    "print(data)"
   ]
  },
  {
   "cell_type": "code",
   "execution_count": 33,
   "metadata": {},
   "outputs": [
    {
     "name": "stdout",
     "output_type": "stream",
     "text": [
      "['Date', 'Profit/Losses', 'Change']\n"
     ]
    }
   ],
   "source": [
    "data = dict(zip(date, change))\n",
    "\n",
    "\n",
    "with open (csvpath, 'r') as csvfile:\n",
    "    csvreader = csv.reader(csvfile, delimiter = ',')\n",
    "    header = next(csvreader)  \n",
    "\n",
    "\n",
    "    header.append(\"Change\")\n",
    "    print(header)\n",
    "    \n",
    "    for line in range(len(csvreader)):\n",
    "        csvreader[line][2] = change\n",
    "        line.append(change)\n",
    "        data.append(line)\n",
    "    ## new_dict[data[i][0]][\"count\"] += int(data[i][1])\n"
   ]
  },
  {
   "cell_type": "code",
   "execution_count": 35,
   "metadata": {},
   "outputs": [
    {
     "name": "stdout",
     "output_type": "stream",
     "text": [
      "0\n"
     ]
    }
   ],
   "source": [
    "print(data[\"Jan-2010\"])"
   ]
  },
  {
   "cell_type": "code",
   "execution_count": 36,
   "metadata": {},
   "outputs": [
    {
     "name": "stdout",
     "output_type": "stream",
     "text": [
      "Sep-2013:-2196167\n",
      "Feb-2012:1926159\n"
     ]
    }
   ],
   "source": [
    "min_value = 0\n",
    "min_key = \"\"\n",
    "max_value = 0\n",
    "max_key = \"\"\n",
    "\n",
    "total_a = 0\n",
    "\n",
    "for keys, values in data.items():\n",
    "        #total_a += values\n",
    "        \n",
    "        if min_value == 0:\n",
    "            min_value = values\n",
    "            min_key = keys\n",
    "        elif values < min_value:\n",
    "            min_value = values\n",
    "            min_key = keys\n",
    "        \n",
    "        if values > max_value:\n",
    "            max_value = values\n",
    "            max_key = keys\n",
    "\n",
    "print(f\"{min_key}:{min_value}\")\n",
    "print(f\"{max_key}:{max_value}\")           \n",
    "\n",
    "\n",
    "    #for keys, values in data.items():\n",
    "     #   print(keys,values)\n",
    "        \n",
    "    #    if min_value == 0:\n",
    "   #         min_value = values\n",
    "   #         min_keys = keys\n",
    "   #     elif values < min_value:\n",
    "    #        min_value = values\n",
    "   #         min_key = keys\n",
    "        \n",
    "        \n",
    "        #elif int(values) > max_value:\n",
    "         #   max_value = values\n",
    "          #  max_key = keys\n",
    "\n",
    "#print(f\"{min_key}:{min_value}\")\n",
    "#print(f\"{max_key}:{max_value}\")           \n"
   ]
  },
  {
   "cell_type": "code",
   "execution_count": 38,
   "metadata": {},
   "outputs": [
    {
     "name": "stdout",
     "output_type": "stream",
     "text": [
      "Financial Analysis:\n",
      "Total Months:86\n",
      "Total : $ 38382578\n",
      "Average Change : $ -2315.12\n",
      "Greatest Increase in Profits: Feb-2012 ($1926159)\n",
      "Greatest Decrease in Profits: Sep-2013 ($-2196167)\n"
     ]
    }
   ],
   "source": [
    "print(f\"Financial Analysis:\")\n",
    "print(f\"Total Months:{total_months}\")\n",
    "print(f\"Total : $ {total_s}\")\n",
    "print(f\"Average Change : $ {average}\")\n",
    "print(f\"Greatest Increase in Profits: {max_key} (${max_value})\")\n",
    "print(f\"Greatest Decrease in Profits: {min_key} (${min_value})\")\n"
   ]
  },
  {
   "cell_type": "code",
   "execution_count": null,
   "metadata": {},
   "outputs": [],
   "source": [
    "output_path = Path ('output.txt')\n",
    "\n",
    "with open (output_path, 'w') as file:\n",
    "    file.write(f\"Financial Analysis: \\n\") \n",
    "    file.write(f\"Total Months:{total_months} \\n\")\n",
    "    file.write((f\"Total : $ {total_s} \\n\") \n",
    "    file.write(f\"Average Change : $ {average} \\n\")\n",
    "    file.write(f\"Greatest Increase in Profits: {max_key} (${max_value}) \\n\")\n",
    "    file.write(f\"Greatest Decrease in Profits: {min_key} (${min_value}) \\n\")"
   ]
  },
  {
   "cell_type": "code",
   "execution_count": null,
   "metadata": {},
   "outputs": [],
   "source": []
  }
 ],
 "metadata": {
  "kernelspec": {
   "display_name": "Python 3",
   "language": "python",
   "name": "python3"
  },
  "language_info": {
   "codemirror_mode": {
    "name": "ipython",
    "version": 3
   },
   "file_extension": ".py",
   "mimetype": "text/x-python",
   "name": "python",
   "nbconvert_exporter": "python",
   "pygments_lexer": "ipython3",
   "version": "3.8.5"
  }
 },
 "nbformat": 4,
 "nbformat_minor": 4
}
