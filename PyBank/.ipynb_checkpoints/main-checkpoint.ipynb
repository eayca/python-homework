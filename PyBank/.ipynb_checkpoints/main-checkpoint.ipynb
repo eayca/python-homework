{
 "cells": [
  {
   "cell_type": "code",
   "execution_count": 1,
   "metadata": {},
   "outputs": [],
   "source": [
    "from pathlib import Path\n",
    "import csv"
   ]
  },
  {
   "cell_type": "code",
   "execution_count": 2,
   "metadata": {},
   "outputs": [],
   "source": [
    "csvpath = Path (\"budget_data.csv\")"
   ]
  },
  {
   "cell_type": "code",
   "execution_count": 3,
   "metadata": {},
   "outputs": [
    {
     "name": "stdout",
     "output_type": "stream",
     "text": [
      "86\n"
     ]
    }
   ],
   "source": [
    "total_months = 0\n",
    "\n",
    "with open (csvpath, 'r') as csvfile:\n",
    "    csvreader = csv.reader(csvfile, delimiter = ',')\n",
    "    header = next(csvreader)\n",
    "    \n",
    "    for line in csvreader:\n",
    "        total_months += 1\n",
    "        \n",
    "print(total_months)"
   ]
  },
  {
   "cell_type": "code",
   "execution_count": 4,
   "metadata": {},
   "outputs": [
    {
     "name": "stdout",
     "output_type": "stream",
     "text": [
      "38382578\n"
     ]
    }
   ],
   "source": [
    "total_pnl = []\n",
    "\n",
    "with open (csvpath, 'r') as csvfile:\n",
    "    csvreader = csv.reader(csvfile, delimiter = ',')\n",
    "    header = next(csvreader)\n",
    "    \n",
    "    for line in csvreader:\n",
    "        pnl = int(line[1])\n",
    "        total_pnl.append(pnl)\n",
    "\n",
    "total_of_pnl = sum(total_pnl)\n",
    "print(total_of_pnl)"
   ]
  },
  {
   "cell_type": "code",
   "execution_count": 5,
   "metadata": {},
   "outputs": [
    {
     "name": "stdout",
     "output_type": "stream",
     "text": [
      "-196785\n",
      "85\n",
      "$ -2315.12\n"
     ]
    }
   ],
   "source": [
    "change = []\n",
    "average = 0\n",
    "    \n",
    "for x,y in zip(total_pnl,total_pnl[1:]):\n",
    "    diff = (y - x)\n",
    "    change.append(diff)\n",
    "\n",
    "average = 0\n",
    "count = 0\n",
    "total = 0\n",
    "\n",
    "for line in change:\n",
    "    total += line\n",
    "    count += 1\n",
    "\n",
    "print(total)\n",
    "print(count)\n",
    "\n",
    "average = round(total / count,2)\n",
    "\n",
    "print(f\"$ {average}\")\n",
    "\n",
    "\n",
    "change.insert(0,0)"
   ]
  },
  {
   "cell_type": "code",
   "execution_count": 6,
   "metadata": {},
   "outputs": [
    {
     "name": "stdout",
     "output_type": "stream",
     "text": [
      "0\n"
     ]
    }
   ],
   "source": [
    "date = []\n",
    "with open (csvpath, 'r') as csvfile:\n",
    "    csvreader = csv.reader(csvfile, delimiter = ',')\n",
    "    header = next(csvreader)\n",
    "    \n",
    "    for line in csvreader:\n",
    "        d = line[0]\n",
    "        date.append(d)\n",
    "\n",
    "data = {}\n",
    "\n",
    "for i in range (len(date)):\n",
    "    if date[i] not in data:\n",
    "        data[date[i]] = int(change[i])\n",
    "\n",
    "print(data[\"Jan-2010\"])"
   ]
  },
  {
   "cell_type": "code",
   "execution_count": 7,
   "metadata": {},
   "outputs": [
    {
     "name": "stdout",
     "output_type": "stream",
     "text": [
      "Sep-2013:-2196167\n",
      "Feb-2012:1926159\n"
     ]
    }
   ],
   "source": [
    "min_value = 0\n",
    "min_key = \"\"\n",
    "max_value = 0\n",
    "max_key = \"\"\n",
    "\n",
    "\n",
    "for keys, values in data.items():\n",
    "        \n",
    "        if min_value == 0:\n",
    "            min_value = values\n",
    "            min_key = keys\n",
    "        elif values < min_value:\n",
    "            min_value = values\n",
    "            min_key = keys\n",
    "        \n",
    "        if values > max_value:\n",
    "            max_value = values\n",
    "            max_key = keys\n",
    "\n",
    "print(f\"{min_key}:{min_value}\")\n",
    "print(f\"{max_key}:{max_value}\")  "
   ]
  },
  {
   "cell_type": "code",
   "execution_count": 8,
   "metadata": {},
   "outputs": [],
   "source": [
    "output_path = Path ('output.txt')\n",
    "\n",
    "with open (output_path, 'w') as file:\n",
    "    file.write(f\"Financial Analysis: \\n\") \n",
    "    file.write(f\"Total Months: {total_months} \\n\")\n",
    "    file.write(f\"Total : $ {total_of_pnl} \\n\") \n",
    "    file.write(f\"Average Change : $ {average} \\n\")\n",
    "    file.write(f\"Greatest Increase in Profits: {max_key} (${max_value}) \\n\")\n",
    "    file.write(f\"Greatest Decrease in Profits: {min_key} (${min_value}) \\n\")"
   ]
  },
  {
   "cell_type": "code",
   "execution_count": null,
   "metadata": {},
   "outputs": [],
   "source": []
  }
 ],
 "metadata": {
  "kernelspec": {
   "display_name": "Python 3",
   "language": "python",
   "name": "python3"
  },
  "language_info": {
   "codemirror_mode": {
    "name": "ipython",
    "version": 3
   },
   "file_extension": ".py",
   "mimetype": "text/x-python",
   "name": "python",
   "nbconvert_exporter": "python",
   "pygments_lexer": "ipython3",
   "version": "3.8.5"
  }
 },
 "nbformat": 4,
 "nbformat_minor": 4
}
